{
 "cells": [
  {
   "cell_type": "code",
   "execution_count": null,
   "id": "860e88f5-0c2d-4ccc-adba-be800f025ba8",
   "metadata": {},
   "outputs": [],
   "source": [
    "# Importing pandas and matplotlib\n",
    "import pandas as pd\n",
    "import matplotlib.pyplot as plt\n",
    "\n",
    "# Read in the Netflix CSV as a DataFrame\n",
    "netflix_df = pd.read_csv(\"netflix_data.csv\")\n",
    "# Start coding here! Use as many cells as you like\n",
    "year_column=netflix_df['release_year']\n",
    "is_1990s=(netflix_df['release_year']>=1990) & (netflix_df['release_year']<2000)\n",
    "movies_1990s=netflix_df[is_1990s]\n",
    "plt.hist(movies_1990s['duration'],bins=20)\n",
    "plt.title(\"Durations in 1990s\")\n",
    "plt.xlabel(\"Duration\")\n",
    "plt.ylabel(\"Number of Movies\")\n",
    "plt.show()\n",
    "action_condition=movies_1990s['genre'].str.contains('Action',na=False)\n",
    "action_movies=movies_1990s.loc[action_condition,:]\n",
    "duration=90\n",
    "short_movie_count=0\n",
    "for lab,row in action_movies.iterrows():\n",
    "    if row['duration']<90:\n",
    "        short_movie_count= short_movie_count+1\n",
    "print(short_movie_count)"
   ]
  }
 ],
 "metadata": {
  "kernelspec": {
   "display_name": "Python [conda env:base] *",
   "language": "python",
   "name": "conda-base-py"
  },
  "language_info": {
   "codemirror_mode": {
    "name": "ipython",
    "version": 3
   },
   "file_extension": ".py",
   "mimetype": "text/x-python",
   "name": "python",
   "nbconvert_exporter": "python",
   "pygments_lexer": "ipython3",
   "version": "3.12.7"
  }
 },
 "nbformat": 4,
 "nbformat_minor": 5
}
